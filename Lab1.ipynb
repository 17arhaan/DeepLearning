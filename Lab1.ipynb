{
 "cells": [
  {
   "cell_type": "markdown",
   "id": "2265fabc",
   "metadata": {},
   "source": [
    "q1"
   ]
  },
  {
   "cell_type": "code",
   "execution_count": 27,
   "id": "c29e8275",
   "metadata": {},
   "outputs": [],
   "source": [
    "import torch "
   ]
  },
  {
   "cell_type": "code",
   "execution_count": 28,
   "id": "e1f5b70f",
   "metadata": {},
   "outputs": [
    {
     "data": {
      "text/plain": [
       "torch.Size([10])"
      ]
     },
     "execution_count": 28,
     "metadata": {},
     "output_type": "execute_result"
    }
   ],
   "source": [
    "t = torch.arange(0,10,1)\n",
    "t\n",
    "t.shape"
   ]
  },
  {
   "cell_type": "code",
   "execution_count": 29,
   "id": "0d257433",
   "metadata": {},
   "outputs": [
    {
     "data": {
      "text/plain": [
       "tensor([0, 1, 2, 3, 4, 5, 6, 7, 8, 9])"
      ]
     },
     "execution_count": 29,
     "metadata": {},
     "output_type": "execute_result"
    }
   ],
   "source": [
    "t"
   ]
  },
  {
   "cell_type": "code",
   "execution_count": 30,
   "id": "b7b66215",
   "metadata": {},
   "outputs": [
    {
     "data": {
      "text/plain": [
       "tensor([[0, 1, 2, 3, 4],\n",
       "        [5, 6, 7, 8, 9]])"
      ]
     },
     "execution_count": 30,
     "metadata": {},
     "output_type": "execute_result"
    }
   ],
   "source": [
    "reshaped_t = t.reshape((2,5))\n",
    "reshaped_t"
   ]
  },
  {
   "cell_type": "code",
   "execution_count": 31,
   "id": "7fec4137",
   "metadata": {},
   "outputs": [
    {
     "name": "stdout",
     "output_type": "stream",
     "text": [
      "tensor([[0., 1., 2., 3., 4., 0., 0., 0., 0., 0.],\n",
      "        [5., 6., 7., 8., 9., 0., 0., 0., 0., 0.]])\n"
     ]
    }
   ],
   "source": [
    "t2 = torch.zeros((2,5))\n",
    "stacked = torch.hstack((reshaped_t , t2))\n",
    "print(stacked)"
   ]
  },
  {
   "cell_type": "code",
   "execution_count": 32,
   "id": "2572ca95",
   "metadata": {},
   "outputs": [
    {
     "name": "stdout",
     "output_type": "stream",
     "text": [
      "tensor([[0., 1., 2., 3., 4.],\n",
      "        [5., 6., 7., 8., 9.],\n",
      "        [0., 0., 0., 0., 0.],\n",
      "        [0., 0., 0., 0., 0.]])\n"
     ]
    }
   ],
   "source": [
    "t2 = torch.zeros((2,5))\n",
    "st = torch.vstack((reshaped_t , t2))\n",
    "print(st)"
   ]
  },
  {
   "cell_type": "code",
   "execution_count": 33,
   "id": "e2d6686d",
   "metadata": {},
   "outputs": [
    {
     "name": "stdout",
     "output_type": "stream",
     "text": [
      "Original Shape was =  torch.Size([2, 10])\n",
      "After Unsqueezing =  torch.Size([2, 1, 10])\n",
      "tensor([[[0., 1., 2., 3., 4., 0., 0., 0., 0., 0.]],\n",
      "\n",
      "        [[5., 6., 7., 8., 9., 0., 0., 0., 0., 0.]]])\n"
     ]
    }
   ],
   "source": [
    "unsqueezed = stacked.unsqueeze(1)\n",
    "print(\"Original Shape was = \", stacked.shape)\n",
    "print(\"After Unsqueezing = \", unsqueezed.shape)\n",
    "print(unsqueezed)"
   ]
  },
  {
   "cell_type": "code",
   "execution_count": 34,
   "id": "f4aa9ede",
   "metadata": {},
   "outputs": [
    {
     "name": "stdout",
     "output_type": "stream",
     "text": [
      "Again got back to shape =  torch.Size([2, 10])\n"
     ]
    }
   ],
   "source": [
    "squeezed = unsqueezed.squeeze(1)\n",
    "print(\"Again got back to shape = \", squeezed.shape)\n"
   ]
  },
  {
   "cell_type": "markdown",
   "id": "23d5d518",
   "metadata": {},
   "source": [
    "q2"
   ]
  },
  {
   "cell_type": "code",
   "execution_count": 35,
   "id": "88b63ef5",
   "metadata": {},
   "outputs": [
    {
     "name": "stdout",
     "output_type": "stream",
     "text": [
      "torch.Size([2, 3, 4])\n",
      "After permute = \n",
      " torch.Size([4, 3, 2])\n"
     ]
    }
   ],
   "source": [
    "import torch \n",
    "import numpy as np\n",
    "t1 = torch.randn(2,3,4)\n",
    "print(t1.size())\n",
    "t2 = t1.permute(2,1,0)\n",
    "print(\"After permute = \\n\",t2.size())"
   ]
  },
  {
   "cell_type": "markdown",
   "id": "2f02b081",
   "metadata": {},
   "source": [
    "q3"
   ]
  },
  {
   "cell_type": "code",
   "execution_count": 36,
   "id": "34f3852d",
   "metadata": {},
   "outputs": [
    {
     "name": "stdout",
     "output_type": "stream",
     "text": [
      "tensor([[[ 1.0946, -0.3422, -0.7359,  0.3114],\n",
      "         [-0.1689, -0.6065, -1.2940, -0.1895],\n",
      "         [ 1.4947, -0.6921, -1.8405, -0.2273]],\n",
      "\n",
      "        [[-0.2339,  0.1880, -0.0966,  1.1273],\n",
      "         [-1.4253, -0.5303,  0.0756, -0.7297],\n",
      "         [ 0.3345,  0.2916, -1.1151,  0.5888]]])\n"
     ]
    }
   ],
   "source": [
    "print(t1)"
   ]
  },
  {
   "cell_type": "code",
   "execution_count": 37,
   "id": "ceee0408",
   "metadata": {},
   "outputs": [
    {
     "name": "stdout",
     "output_type": "stream",
     "text": [
      "tensor(0.5888)\n"
     ]
    }
   ],
   "source": [
    "print(t1[1,2,3])"
   ]
  },
  {
   "cell_type": "markdown",
   "id": "96062c7f",
   "metadata": {},
   "source": [
    "q4"
   ]
  },
  {
   "cell_type": "code",
   "execution_count": 38,
   "id": "a3a876d4",
   "metadata": {},
   "outputs": [
    {
     "name": "stdout",
     "output_type": "stream",
     "text": [
      "N1 is currently of type =  <class 'numpy.ndarray'>\n",
      "N1 is currently of type =  <class 'torch.Tensor'>\n",
      "N1 is currently of type =  <class 'numpy.ndarray'>\n"
     ]
    }
   ],
   "source": [
    "n1 = np.array([1, 2, 3])\n",
    "print(\"N1 is currently of type = \", type(n1))\n",
    "n1 = torch.from_numpy(n1)\n",
    "print(\"N1 is currently of type = \", type(n1))\n",
    "n1 = n1.cpu().numpy()\n",
    "print(\"N1 is currently of type = \", type(n1))"
   ]
  },
  {
   "cell_type": "markdown",
   "id": "fa92c7e9",
   "metadata": {},
   "source": [
    "q5"
   ]
  },
  {
   "cell_type": "code",
   "execution_count": 39,
   "id": "a89acc33",
   "metadata": {},
   "outputs": [
    {
     "name": "stdout",
     "output_type": "stream",
     "text": [
      "torch.Size([7, 7])\n",
      "tensor([[-0.2155,  0.6672,  0.0746,  0.6943, -1.3940, -1.0986,  1.2697],\n",
      "        [-1.7178, -0.8308,  0.2577, -0.8919, -0.6432, -0.4213,  0.4766],\n",
      "        [ 0.6666, -1.5489,  0.2400, -1.1055,  1.2209, -1.4995,  0.6585],\n",
      "        [ 0.2492,  0.5609,  0.4822, -0.7999,  0.9750, -1.5140, -2.2039],\n",
      "        [-0.8670, -0.9286, -2.0181, -1.5178, -0.8005, -0.9855,  0.0238],\n",
      "        [-0.4535,  0.4476,  0.8965,  1.1175, -0.1509,  0.7373,  0.8417],\n",
      "        [-1.4866,  1.0906, -0.1496,  0.0466,  1.3156, -0.4388,  0.4872]])\n"
     ]
    }
   ],
   "source": [
    "r1 = torch.randn((7, 7))\n",
    "print(r1.shape)\n",
    "print(r1)"
   ]
  },
  {
   "cell_type": "markdown",
   "id": "7b51cb56",
   "metadata": {},
   "source": [
    "q6"
   ]
  },
  {
   "cell_type": "code",
   "execution_count": 40,
   "id": "7f3c047d",
   "metadata": {},
   "outputs": [
    {
     "name": "stdout",
     "output_type": "stream",
     "text": [
      "torch.Size([7, 1])\n",
      "tensor([[-0.4187],\n",
      "        [ 1.2537],\n",
      "        [-4.9044],\n",
      "        [-6.2787],\n",
      "        [-1.4667],\n",
      "        [ 3.7091],\n",
      "        [ 2.9868]])\n"
     ]
    }
   ],
   "source": [
    "r2 = torch.randn((1, 7))\n",
    "res = torch.matmul(r1, r2.T)\n",
    "print(res.shape)\n",
    "print(res)"
   ]
  },
  {
   "cell_type": "markdown",
   "id": "16508419",
   "metadata": {},
   "source": [
    "q7"
   ]
  },
  {
   "cell_type": "code",
   "execution_count": 41,
   "id": "da3d3f5f",
   "metadata": {},
   "outputs": [
    {
     "data": {
      "text/plain": [
       "(tensor([[ 5.6931e-01, -3.2981e-02, -9.4031e-01],\n",
       "         [ 7.6188e-01,  7.7518e-01, -1.7077e-04]], device='cuda:0'),\n",
       " tensor([[-0.4135,  2.4606, -0.4387],\n",
       "         [-1.7441, -0.1893,  0.3955]], device='cuda:0'))"
      ]
     },
     "execution_count": 41,
     "metadata": {},
     "output_type": "execute_result"
    }
   ],
   "source": [
    "tens1 = torch.randn((2,3))\n",
    "tens2 = torch.randn((2,3))\n",
    "device = 'cuda' if torch.cuda.is_available() else 'cpu'\n",
    "tens1_on_gpu = tens1.to(device)\n",
    "tens2_on_gpu = tens2.to(device)\n",
    "tens1_on_gpu , tens2_on_gpu"
   ]
  },
  {
   "cell_type": "markdown",
   "id": "c5daa786",
   "metadata": {},
   "source": [
    "q8"
   ]
  },
  {
   "cell_type": "code",
   "execution_count": 42,
   "id": "bdcab3aa",
   "metadata": {},
   "outputs": [
    {
     "name": "stdout",
     "output_type": "stream",
     "text": [
      "tensor([[ 0.0959, -1.3586],\n",
      "        [ 1.5925, -1.4756]]) cpu\n"
     ]
    }
   ],
   "source": [
    "res = torch.matmul(tens1, tens2.T)\n",
    "print(res, res.device)"
   ]
  },
  {
   "cell_type": "code",
   "execution_count": 43,
   "id": "647c64f5",
   "metadata": {},
   "outputs": [
    {
     "name": "stdout",
     "output_type": "stream",
     "text": [
      "tensor([[ 0.0959, -1.3586],\n",
      "        [ 1.5925, -1.4756]], device='cuda:0') cuda:0\n"
     ]
    }
   ],
   "source": [
    "res1 = torch.matmul(tens1_on_gpu, tens2_on_gpu.T)\n",
    "print(res1, res1.device)"
   ]
  },
  {
   "cell_type": "markdown",
   "id": "9fc129d8",
   "metadata": {},
   "source": [
    "q9"
   ]
  },
  {
   "cell_type": "code",
   "execution_count": 44,
   "id": "2ea81006",
   "metadata": {},
   "outputs": [
    {
     "name": "stdout",
     "output_type": "stream",
     "text": [
      "Max value  tensor(1.5925)\n",
      "Min value  tensor(-1.4756)\n"
     ]
    }
   ],
   "source": [
    "print(\"Max value \", res.max())\n",
    "print(\"Min value \", res.min())"
   ]
  },
  {
   "cell_type": "markdown",
   "id": "f79972b3",
   "metadata": {},
   "source": [
    "q10"
   ]
  },
  {
   "cell_type": "code",
   "execution_count": 45,
   "id": "a5fd2c0b",
   "metadata": {},
   "outputs": [
    {
     "name": "stdout",
     "output_type": "stream",
     "text": [
      "Max Index tensor(2)\n",
      "Min Index tensor(3)\n"
     ]
    }
   ],
   "source": [
    "print(\"Max Index\", res.argmax())\n",
    "print(\"Min Index\", res.argmin())"
   ]
  },
  {
   "cell_type": "markdown",
   "id": "7dd59bae",
   "metadata": {},
   "source": [
    "q11"
   ]
  },
  {
   "cell_type": "code",
   "execution_count": 46,
   "id": "ef0b4ce2",
   "metadata": {},
   "outputs": [
    {
     "name": "stdout",
     "output_type": "stream",
     "text": [
      "tensor([[[[-0.1468,  0.7861,  0.9468, -1.1143,  1.6908, -0.8948, -0.3556,\n",
      "            1.2324,  0.1382, -1.6822]]]]) \n",
      "Before -  torch.Size([1, 1, 1, 10])\n",
      "tensor([-0.1468,  0.7861,  0.9468, -1.1143,  1.6908, -0.8948, -0.3556,  1.2324,\n",
      "         0.1382, -1.6822]) \n",
      "After -  torch.Size([10])\n"
     ]
    }
   ],
   "source": [
    "torch.manual_seed(7)\n",
    "ti = torch.randn((1, 1, 1, 10))\n",
    "print(ti, \"\\nBefore - \", ti.shape)\n",
    "ti = ti.squeeze(0, 1, 2)\n",
    "print(ti, \"\\nAfter - \", ti.shape)\n"
   ]
  },
  {
   "cell_type": "code",
   "execution_count": null,
   "id": "17b117ba",
   "metadata": {},
   "outputs": [],
   "source": []
  }
 ],
 "metadata": {
  "kernelspec": {
   "display_name": "Python (myenv)",
   "language": "python",
   "name": "myenv"
  },
  "language_info": {
   "codemirror_mode": {
    "name": "ipython",
    "version": 3
   },
   "file_extension": ".py",
   "mimetype": "text/x-python",
   "name": "python",
   "nbconvert_exporter": "python",
   "pygments_lexer": "ipython3",
   "version": "3.12.3"
  }
 },
 "nbformat": 4,
 "nbformat_minor": 5
}
